{
 "cells": [
  {
   "cell_type": "markdown",
   "id": "6f757dad-66dd-44cb-b8cc-7ce63717f871",
   "metadata": {},
   "source": [
    "### Q1\n",
    "\n",
    "animals = [\"cat\", \"dog\", \"rabbit\", \"tiger\", \"elephant\"]\n",
    "\n",
    "- Print \"tiger\" by indexing\n",
    "- Print \"rabbit by negative indexing\n",
    "- Print \"rabbit\" to \"elephant\" by slicing"
   ]
  },
  {
   "cell_type": "code",
   "execution_count": 1,
   "id": "2c805702-ff96-48ba-b746-0c233375768f",
   "metadata": {},
   "outputs": [],
   "source": [
    "animals = [\"cat\", \"dog\", \"rabbit\", \"tiger\", \"elephant\"]"
   ]
  },
  {
   "cell_type": "code",
   "execution_count": 2,
   "id": "5302a4cd-6b5c-4cba-b6a5-5372ad6801ae",
   "metadata": {},
   "outputs": [
    {
     "name": "stdout",
     "output_type": "stream",
     "text": [
      "tiger\n",
      "rabbit\n",
      "['rabbit', 'tiger', 'elephant']\n"
     ]
    }
   ],
   "source": [
    "print(animals[3])\n",
    "print(animals[-3])\n",
    "print(animals[2:5])"
   ]
  },
  {
   "cell_type": "markdown",
   "id": "1dee0f44-1f3a-4a99-8931-ffc7d9e4b70e",
   "metadata": {},
   "source": [
    "### Q2.\n",
    "\n",
    "Add \"lion\" to the list of animals by list method append\n",
    "\n",
    "Remove \"rabbit\" from the list by list method remove\n",
    "\n",
    "Print the updated list."
   ]
  },
  {
   "cell_type": "code",
   "execution_count": 3,
   "id": "aa9ff7eb-aceb-4727-bf0a-cc7074fe92a3",
   "metadata": {},
   "outputs": [],
   "source": [
    "animals = [\"cat\", \"dog\", \"rabbit\", \"tiger\", \"elephant\"]"
   ]
  },
  {
   "cell_type": "code",
   "execution_count": 4,
   "id": "df9a3451-b8d8-4b83-849f-442ee3ed13ad",
   "metadata": {},
   "outputs": [
    {
     "name": "stdout",
     "output_type": "stream",
     "text": [
      "['cat', 'dog', 'rabbit', 'tiger', 'elephant', 'lion']\n"
     ]
    }
   ],
   "source": [
    "animals.append(\"lion\")\n",
    "print(animals)"
   ]
  },
  {
   "cell_type": "code",
   "execution_count": 5,
   "id": "5d26d882-557a-4c34-9059-613a5b6b6adc",
   "metadata": {},
   "outputs": [
    {
     "name": "stdout",
     "output_type": "stream",
     "text": [
      "['cat', 'dog', 'tiger', 'elephant', 'lion']\n"
     ]
    }
   ],
   "source": [
    "animals.remove(\"rabbit\")\n",
    "print(animals)"
   ]
  },
  {
   "cell_type": "markdown",
   "id": "6487290b-aa44-49af-b148-8eda538416a9",
   "metadata": {},
   "source": [
    "### Q3.\n",
    "\n",
    "basket = [[\"apple\", \"banana\", \"mango\"], [\"red\", \"blue\", \"green\", \"black\"]]\n",
    "\n",
    "- print list of fruits\n",
    "- print list of colors\n",
    "- print second fruit by negative indexing\n",
    "- replace color \"blue\" with \"white\"\n",
    "- print length of colors list\n"
   ]
  },
  {
   "cell_type": "code",
   "execution_count": 6,
   "id": "fca5e45e-7704-4593-8187-7209119dacea",
   "metadata": {},
   "outputs": [],
   "source": [
    "basket = [[\"apple\", \"banana\", \"mango\"], [\"red\", \"blue\", \"green\", \"black\"]]"
   ]
  },
  {
   "cell_type": "code",
   "execution_count": 7,
   "id": "735615e7-1b88-4907-b95d-543420abfcfd",
   "metadata": {},
   "outputs": [
    {
     "name": "stdout",
     "output_type": "stream",
     "text": [
      "[['apple', 'banana', 'mango'], ['red', 'blue', 'green', 'black']]\n"
     ]
    }
   ],
   "source": [
    "print(basket)"
   ]
  },
  {
   "cell_type": "code",
   "execution_count": 8,
   "id": "a1a005cf-504d-4a98-8512-2f23c14c35d6",
   "metadata": {},
   "outputs": [
    {
     "name": "stdout",
     "output_type": "stream",
     "text": [
      "['apple', 'banana', 'mango']\n"
     ]
    }
   ],
   "source": [
    "print(basket[0])"
   ]
  },
  {
   "cell_type": "code",
   "execution_count": 9,
   "id": "e9deda3b-3814-4216-be90-3a68b68ea91e",
   "metadata": {},
   "outputs": [
    {
     "name": "stdout",
     "output_type": "stream",
     "text": [
      "['red', 'blue', 'green', 'black']\n"
     ]
    }
   ],
   "source": [
    "print(basket[1])"
   ]
  },
  {
   "cell_type": "code",
   "execution_count": 10,
   "id": "45024569-0de5-4706-8702-a4a18aeba749",
   "metadata": {},
   "outputs": [
    {
     "name": "stdout",
     "output_type": "stream",
     "text": [
      "banana\n"
     ]
    }
   ],
   "source": [
    "print(basket[0][-2])"
   ]
  },
  {
   "cell_type": "code",
   "execution_count": 11,
   "id": "b0b1b17e-5e7d-4c36-b9f5-2bfd148a458f",
   "metadata": {},
   "outputs": [
    {
     "name": "stdout",
     "output_type": "stream",
     "text": [
      "['red', 'white', 'green', 'black']\n"
     ]
    }
   ],
   "source": [
    "basket[1][1] = \"white\"\n",
    "print(basket[1])"
   ]
  },
  {
   "cell_type": "code",
   "execution_count": 12,
   "id": "00cee397-a2bb-468c-b9ae-082ca2841458",
   "metadata": {},
   "outputs": [
    {
     "name": "stdout",
     "output_type": "stream",
     "text": [
      "4\n"
     ]
    }
   ],
   "source": [
    "print(len(basket[1]))"
   ]
  },
  {
   "cell_type": "markdown",
   "id": "a7f894ca-745e-4cbb-8625-a2b6448b48aa",
   "metadata": {},
   "source": [
    "### Q4.\n",
    "\n",
    "food = [\"pizza\", \"burger\", \"fries\", \"burger\", \"pasta\", \"burger\", \"biryani\", \"fries]\n",
    "\n",
    "- Add \"sandwich\" to the end of the list.\n",
    "- Insert \"biryani\" at index 2.\n"
   ]
  },
  {
   "cell_type": "code",
   "execution_count": 13,
   "id": "c6767c90-3e75-4068-b373-b29f0aa22502",
   "metadata": {},
   "outputs": [],
   "source": [
    "food = [\"pizza\", \"burger\", \"fries\", \"burger\", \"pasta\", \"burger\", \"biryani\", \"fries\"]"
   ]
  },
  {
   "cell_type": "code",
   "execution_count": 14,
   "id": "7dec6878-e7c5-4a92-8094-39e5f386b340",
   "metadata": {},
   "outputs": [
    {
     "name": "stdout",
     "output_type": "stream",
     "text": [
      "['pizza', 'burger', 'fries', 'burger', 'pasta', 'burger', 'biryani', 'fries']\n"
     ]
    }
   ],
   "source": [
    "print(food)"
   ]
  },
  {
   "cell_type": "code",
   "execution_count": 15,
   "id": "212b0fc3-5aa9-4ae3-8ed2-80db11ca62f5",
   "metadata": {},
   "outputs": [
    {
     "name": "stdout",
     "output_type": "stream",
     "text": [
      "['pizza', 'burger', 'fries', 'burger', 'pasta', 'burger', 'biryani', 'fries', 'sandwich']\n"
     ]
    }
   ],
   "source": [
    "food.append(\"sandwich\")\n",
    "print(food)"
   ]
  },
  {
   "cell_type": "code",
   "execution_count": 16,
   "id": "b6b62817-5af2-4240-83ce-8c0e829ab847",
   "metadata": {},
   "outputs": [
    {
     "name": "stdout",
     "output_type": "stream",
     "text": [
      "['pizza', 'burger', 'biryani', 'fries', 'burger', 'pasta', 'burger', 'biryani', 'fries', 'sandwich']\n"
     ]
    }
   ],
   "source": [
    "food.insert(2,\"biryani\")\n",
    "print(food)"
   ]
  },
  {
   "cell_type": "markdown",
   "id": "c1126218-6a91-4e4e-9216-a7c73eeef712",
   "metadata": {},
   "source": [
    "### Q5.\n",
    "\n",
    "- Sort the food list in alphabetical order\n",
    "- Reverse the order of the list food"
   ]
  },
  {
   "cell_type": "code",
   "execution_count": 17,
   "id": "9e6d8770-6300-4401-a80a-ec4f9a2f713f",
   "metadata": {},
   "outputs": [
    {
     "name": "stdout",
     "output_type": "stream",
     "text": [
      "['pizza', 'burger', 'biryani', 'fries', 'burger', 'pasta', 'burger', 'biryani', 'fries', 'sandwich']\n"
     ]
    }
   ],
   "source": [
    "print(food)"
   ]
  },
  {
   "cell_type": "code",
   "execution_count": 18,
   "id": "6a5797d1-ea77-4f0f-9609-a46ce74e789f",
   "metadata": {},
   "outputs": [
    {
     "name": "stdout",
     "output_type": "stream",
     "text": [
      "['biryani', 'biryani', 'burger', 'burger', 'burger', 'fries', 'fries', 'pasta', 'pizza', 'sandwich']\n"
     ]
    }
   ],
   "source": [
    "food.sort()\n",
    "print(food)"
   ]
  },
  {
   "cell_type": "code",
   "execution_count": 19,
   "id": "3a921c25-d0ff-4fe8-972b-ed29b126baa3",
   "metadata": {},
   "outputs": [
    {
     "name": "stdout",
     "output_type": "stream",
     "text": [
      "['sandwich', 'pizza', 'pasta', 'fries', 'fries', 'burger', 'burger', 'burger', 'biryani', 'biryani']\n"
     ]
    }
   ],
   "source": [
    "food.reverse()\n",
    "print(food)"
   ]
  },
  {
   "cell_type": "markdown",
   "id": "461f6fa9-0eea-49e8-ab2b-cefee7f7d235",
   "metadata": {},
   "source": [
    "### Q6.\n",
    "\n",
    "- Find the index of \"pasta\" and print it from the list of food\n",
    "- Count how many times \"pizza\" appears in list food"
   ]
  },
  {
   "cell_type": "code",
   "execution_count": 20,
   "id": "94ae1188-98e3-4168-a571-9aeba5b82831",
   "metadata": {},
   "outputs": [
    {
     "data": {
      "text/plain": [
       "2"
      ]
     },
     "execution_count": 20,
     "metadata": {},
     "output_type": "execute_result"
    }
   ],
   "source": [
    "food.index(\"pasta\")"
   ]
  },
  {
   "cell_type": "code",
   "execution_count": 21,
   "id": "b3086e3d-f229-4d3e-9512-e782a3dd81e5",
   "metadata": {},
   "outputs": [
    {
     "data": {
      "text/plain": [
       "4"
      ]
     },
     "execution_count": 21,
     "metadata": {},
     "output_type": "execute_result"
    }
   ],
   "source": [
    "food = [\"pizza\", \"burger\", \"fries\", \"burger\", \"pasta\", \"burger\", \"biryani\", \"fries\"]\n",
    "food.index(\"pasta\")"
   ]
  },
  {
   "cell_type": "code",
   "execution_count": 22,
   "id": "847f0e43-9f83-454d-bf52-a99a867c906c",
   "metadata": {},
   "outputs": [
    {
     "data": {
      "text/plain": [
       "1"
      ]
     },
     "execution_count": 22,
     "metadata": {},
     "output_type": "execute_result"
    }
   ],
   "source": [
    "food.count(\"pizza\")"
   ]
  },
  {
   "cell_type": "markdown",
   "id": "099ef23b-3188-412d-8b3c-0021ac3cee53",
   "metadata": {},
   "source": [
    "### Q7.\n",
    "\n",
    "- Remove \"burger\" (only the first one) from the list food.\n",
    "- Remove the last item using pop() and print it.\n",
    "\n"
   ]
  },
  {
   "cell_type": "code",
   "execution_count": 23,
   "id": "0c4302bb-c92e-4bc3-a5e4-ddd1c7ea1db2",
   "metadata": {},
   "outputs": [
    {
     "name": "stdout",
     "output_type": "stream",
     "text": [
      "['pizza', 'burger', 'fries', 'burger', 'pasta', 'burger', 'biryani', 'fries']\n"
     ]
    }
   ],
   "source": [
    "print(food)"
   ]
  },
  {
   "cell_type": "code",
   "execution_count": 24,
   "id": "d6bce82e-55d8-48f5-a1d6-1f014f1b6c94",
   "metadata": {},
   "outputs": [
    {
     "name": "stdout",
     "output_type": "stream",
     "text": [
      "['pizza', 'fries', 'burger', 'pasta', 'burger', 'biryani', 'fries']\n"
     ]
    }
   ],
   "source": [
    "food.remove(\"burger\")\n",
    "print(food)"
   ]
  },
  {
   "cell_type": "code",
   "execution_count": 25,
   "id": "c06c16d5-e4b0-4f44-b65d-4ef5a1293917",
   "metadata": {},
   "outputs": [
    {
     "data": {
      "text/plain": [
       "'fries'"
      ]
     },
     "execution_count": 25,
     "metadata": {},
     "output_type": "execute_result"
    }
   ],
   "source": [
    "food.pop()"
   ]
  },
  {
   "cell_type": "code",
   "execution_count": 26,
   "id": "aa2a6605-148e-4483-98f8-e8a11db8b1e3",
   "metadata": {},
   "outputs": [
    {
     "name": "stdout",
     "output_type": "stream",
     "text": [
      "['pizza', 'fries', 'burger', 'pasta', 'burger', 'biryani']\n"
     ]
    }
   ],
   "source": [
    "print(food)"
   ]
  },
  {
   "cell_type": "markdown",
   "id": "648c2ce0-5a67-4e17-b3ac-5eb7587dee4b",
   "metadata": {},
   "source": [
    "### Q8.\n",
    "\n",
    "- Make a copy of the list of food and name it my_food\n",
    "- Clear the original food list."
   ]
  },
  {
   "cell_type": "code",
   "execution_count": 27,
   "id": "55837868-3b3a-4022-9a54-c3767cee7501",
   "metadata": {},
   "outputs": [
    {
     "name": "stdout",
     "output_type": "stream",
     "text": [
      "['pizza', 'fries', 'burger', 'pasta', 'burger', 'biryani']\n"
     ]
    }
   ],
   "source": [
    "print(food)"
   ]
  },
  {
   "cell_type": "code",
   "execution_count": 28,
   "id": "3b2319c6-c3ef-4640-961b-da86a7c513f1",
   "metadata": {},
   "outputs": [
    {
     "name": "stdout",
     "output_type": "stream",
     "text": [
      "['pizza', 'fries', 'burger', 'pasta', 'burger', 'biryani']\n"
     ]
    }
   ],
   "source": [
    "my_food = food.copy()\n",
    "print(my_food)"
   ]
  },
  {
   "cell_type": "code",
   "execution_count": 29,
   "id": "cd5e62ba-d538-452d-9c91-a2362d7b0c79",
   "metadata": {},
   "outputs": [
    {
     "name": "stdout",
     "output_type": "stream",
     "text": [
      "[]\n"
     ]
    }
   ],
   "source": [
    "food.clear()\n",
    "print(food)"
   ]
  },
  {
   "cell_type": "markdown",
   "id": "acd0311b-d9bf-485d-a306-73b281094051",
   "metadata": {},
   "source": [
    "### Q9.\n",
    "\n",
    "Count nested list [1,2] by count method\n",
    "\n",
    "data = [[1, 2],[3, 4],[1, 2],[2,4],[1, 2],[1,3,6]]\n"
   ]
  },
  {
   "cell_type": "code",
   "execution_count": 30,
   "id": "f25314e7-b53c-415c-8f2e-664c0477a330",
   "metadata": {},
   "outputs": [],
   "source": [
    "data = [[1, 2],[3, 4],[1, 2],[2,4],[1, 2],[1,3,6]]"
   ]
  },
  {
   "cell_type": "code",
   "execution_count": 31,
   "id": "821b7651-21b6-4868-acb5-b7c63aeef2ce",
   "metadata": {},
   "outputs": [
    {
     "data": {
      "text/plain": [
       "3"
      ]
     },
     "execution_count": 31,
     "metadata": {},
     "output_type": "execute_result"
    }
   ],
   "source": [
    "data.count([1,2])"
   ]
  },
  {
   "cell_type": "markdown",
   "id": "3a8ca1b5-48c0-44e4-b54b-2d8fe3a7ab82",
   "metadata": {},
   "source": [
    "### Q10.\n",
    "\n",
    "Replace 'cat' with 'found you'\n",
    "\n",
    "\n",
    "odd_item = ['almond','peanut',['onion','potato','tomato',['apple','mango','cherry',['cat'],'banana'],'lemon',],'walnut']\n"
   ]
  },
  {
   "cell_type": "code",
   "execution_count": 32,
   "id": "7438f05a-4373-48bb-93a9-7a10d1618865",
   "metadata": {},
   "outputs": [],
   "source": [
    "odd_item = ['almond','peanut',['onion','potato','tomato',['apple','mango','cherry',['cat'],'banana'],'lemon',],'walnut']"
   ]
  },
  {
   "cell_type": "code",
   "execution_count": 33,
   "id": "58fd1784-e9e2-4578-b9cf-29c2c6d13b49",
   "metadata": {},
   "outputs": [
    {
     "name": "stdout",
     "output_type": "stream",
     "text": [
      "['almond', 'peanut', ['onion', 'potato', 'tomato', ['apple', 'mango', 'cherry', ['cat'], 'banana'], 'lemon'], 'walnut']\n"
     ]
    }
   ],
   "source": [
    "odd_item = ['almond','peanut',\n",
    "            ['onion','potato','tomato',\n",
    "             ['apple','mango','cherry',\n",
    "              ['cat'],\n",
    "              'banana'],\n",
    "             'lemon',],\n",
    "            'walnut']\n",
    "print(odd_item)"
   ]
  },
  {
   "cell_type": "code",
   "execution_count": 34,
   "id": "dc54e884-26b8-4656-8a28-8b235635d870",
   "metadata": {},
   "outputs": [
    {
     "name": "stdout",
     "output_type": "stream",
     "text": [
      "['almond', 'peanut', ['onion', 'potato', 'tomato', ['apple', 'mango', 'cherry', ['found you'], 'banana'], 'lemon'], 'walnut']\n"
     ]
    }
   ],
   "source": [
    "odd_item[2][3][3][0] = 'found you'\n",
    "\n",
    "print(odd_item)"
   ]
  },
  {
   "cell_type": "code",
   "execution_count": null,
   "id": "dea6c386-66e7-4e09-a6f8-8e4b5b7e5b67",
   "metadata": {},
   "outputs": [],
   "source": []
  }
 ],
 "metadata": {
  "kernelspec": {
   "display_name": "Python [conda env:base] *",
   "language": "python",
   "name": "conda-base-py"
  },
  "language_info": {
   "codemirror_mode": {
    "name": "ipython",
    "version": 3
   },
   "file_extension": ".py",
   "mimetype": "text/x-python",
   "name": "python",
   "nbconvert_exporter": "python",
   "pygments_lexer": "ipython3",
   "version": "3.12.7"
  }
 },
 "nbformat": 4,
 "nbformat_minor": 5
}
