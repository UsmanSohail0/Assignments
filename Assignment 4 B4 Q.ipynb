{
 "cells": [
  {
   "cell_type": "markdown",
   "id": "f50c28f8-19de-40ce-b6fe-360f1542676f",
   "metadata": {},
   "source": [
    "1-\n",
    "\n",
    "text = 'hello python world'\n",
    "\n",
    "Replace spaces with underscores in the string (e.g., \"hello python world\" → \"hello_python_world\").\n",
    "\n",
    "Split the modified string (e.g., \"hello_python_world\" → ['hello', 'python', 'world']).\n",
    "\n",
    "Print all two results\n",
    "\n",
    "Hint: Use string methods"
   ]
  },
  {
   "cell_type": "code",
   "execution_count": 13,
   "id": "5952c9ff-5e22-4ecb-a78e-03410c981dba",
   "metadata": {},
   "outputs": [
    {
     "data": {
      "text/plain": [
       "'hello_python_world'"
      ]
     },
     "execution_count": 13,
     "metadata": {},
     "output_type": "execute_result"
    }
   ],
   "source": [
    "text = \"hello python world\"\n",
    "text.replace(\" \",\"_\")"
   ]
  },
  {
   "cell_type": "code",
   "execution_count": 14,
   "id": "a8ad6aad-babe-4afd-82fb-8ce771f39e47",
   "metadata": {},
   "outputs": [
    {
     "data": {
      "text/plain": [
       "['hello', 'python', 'world']"
      ]
     },
     "execution_count": 14,
     "metadata": {},
     "output_type": "execute_result"
    }
   ],
   "source": [
    "text.split()"
   ]
  },
  {
   "cell_type": "markdown",
   "id": "f36c5e03-9efc-40f9-833c-23864268173e",
   "metadata": {},
   "source": [
    "2- You have a product code that follows the format \"SKU-12345-XYZ\".\n",
    "\n",
    "Find the first position of the dash (-).\n",
    "\n",
    "Count the number of dashes (-) in the product code.\n",
    "\n",
    "Remove the \"SKU-\" prefix and \"-XYZ\" suffix from the product code, Extract the numeric part 12345\n",
    "\n",
    "product_code = \"SKU-12345-XYZ\"\n",
    "\n",
    "Hint: Use String Methods"
   ]
  },
  {
   "cell_type": "code",
   "execution_count": 31,
   "id": "795b3baa-f4ed-464d-9e8b-1555fd9a9088",
   "metadata": {},
   "outputs": [
    {
     "data": {
      "text/plain": [
       "3"
      ]
     },
     "execution_count": 31,
     "metadata": {},
     "output_type": "execute_result"
    }
   ],
   "source": [
    "product_code = \"SKU-12345-XYZ\"\n",
    "\n",
    "product_code.find(\"-\")"
   ]
  },
  {
   "cell_type": "code",
   "execution_count": 30,
   "id": "82e6ce47-1cd5-4e2a-a50f-e5225bfd81e2",
   "metadata": {},
   "outputs": [
    {
     "data": {
      "text/plain": [
       "2"
      ]
     },
     "execution_count": 30,
     "metadata": {},
     "output_type": "execute_result"
    }
   ],
   "source": [
    "product_code = \"SKU-12345-XYZ\"\n",
    "\n",
    "product_code.count(\"-\")"
   ]
  },
  {
   "cell_type": "code",
   "execution_count": 39,
   "id": "c4154a5e-537f-4faa-a897-c015fe53172b",
   "metadata": {},
   "outputs": [
    {
     "data": {
      "text/plain": [
       "'12345'"
      ]
     },
     "execution_count": 39,
     "metadata": {},
     "output_type": "execute_result"
    }
   ],
   "source": [
    "product_code = \"SKU-12345-XYZ\"\n",
    "\n",
    "product_code.strip(\"SKU-\"+\"-XYZ\")"
   ]
  },
  {
   "cell_type": "markdown",
   "id": "0d504f74-c0d6-4890-9580-7890bc1dcb43",
   "metadata": {},
   "source": [
    "3- Convert a string to Title Case.\n",
    "\n",
    "text_1 = \"hello world\"\n"
   ]
  },
  {
   "cell_type": "code",
   "execution_count": 29,
   "id": "8ee70bfc-b4c3-4138-8386-e97a836b2cf4",
   "metadata": {},
   "outputs": [
    {
     "data": {
      "text/plain": [
       "'Hello World'"
      ]
     },
     "execution_count": 29,
     "metadata": {},
     "output_type": "execute_result"
    }
   ],
   "source": [
    "text_1 = \"hello world\"\n",
    "\n",
    "text_1.title()"
   ]
  },
  {
   "cell_type": "markdown",
   "id": "69a00670-3bd2-4380-bfd6-46f87255ef19",
   "metadata": {},
   "source": [
    "4- Capitalize the first letter of a string.\n",
    "\n",
    "text_2 = \"python programming\""
   ]
  },
  {
   "cell_type": "code",
   "execution_count": 27,
   "id": "044631b2-b484-4a6d-9e23-816b89a8edce",
   "metadata": {},
   "outputs": [
    {
     "data": {
      "text/plain": [
       "'Python programming'"
      ]
     },
     "execution_count": 27,
     "metadata": {},
     "output_type": "execute_result"
    }
   ],
   "source": [
    "text_2 = \"python programming\"\n",
    "\n",
    "text_2.capitalize()"
   ]
  },
  {
   "cell_type": "markdown",
   "id": "24a9ded0-9b42-4107-bdd3-da5af3dc1414",
   "metadata": {},
   "source": [
    "5- Given the string below, write Python code to:\n",
    "\n",
    "Convert the string so that each word starts with a capital letter\n",
    "\n",
    "Then swap the case of every letter in the resulting string\n",
    "\n",
    "Print the final result.\n",
    "\n",
    "text1 = \"learning PYTHON is AWESOME\""
   ]
  },
  {
   "cell_type": "code",
   "execution_count": 25,
   "id": "5af39200-f65c-4761-ab92-3b5da275210c",
   "metadata": {},
   "outputs": [
    {
     "data": {
      "text/plain": [
       "'Learning Python Is Awesome'"
      ]
     },
     "execution_count": 25,
     "metadata": {},
     "output_type": "execute_result"
    }
   ],
   "source": [
    "text1 = \"learning PYTHON is AWESOME\"\n",
    "\n",
    "text1.title()"
   ]
  },
  {
   "cell_type": "code",
   "execution_count": 26,
   "id": "a8549269-cac1-4f57-98e9-9beae4e21d92",
   "metadata": {},
   "outputs": [
    {
     "data": {
      "text/plain": [
       "'LEARNING python IS awesome'"
      ]
     },
     "execution_count": 26,
     "metadata": {},
     "output_type": "execute_result"
    }
   ],
   "source": [
    "text1.swapcase()"
   ]
  },
  {
   "cell_type": "markdown",
   "id": "99163be0-8b38-4d39-a4d6-8099e6a6eee7",
   "metadata": {},
   "source": [
    "# 6- \n",
    "\n",
    "Write Python code to check and print whether the string satisfies the following:\n",
    "\n",
    "Is alphanumeric?\n",
    "\n",
    "Is alphabetic only?\n",
    "\n",
    "text2 = \"HelloWorld123\"\n"
   ]
  },
  {
   "cell_type": "code",
   "execution_count": 21,
   "id": "dda8065c-2542-43b9-b650-406d31afd1bf",
   "metadata": {},
   "outputs": [
    {
     "data": {
      "text/plain": [
       "True"
      ]
     },
     "execution_count": 21,
     "metadata": {},
     "output_type": "execute_result"
    }
   ],
   "source": [
    "text2 = \"HelloWorld123\"\n",
    "\n",
    "text2.isalnum()"
   ]
  },
  {
   "cell_type": "code",
   "execution_count": 22,
   "id": "ff313f74-e3b0-4e0a-8280-c0ef7989b38b",
   "metadata": {},
   "outputs": [
    {
     "data": {
      "text/plain": [
       "False"
      ]
     },
     "execution_count": 22,
     "metadata": {},
     "output_type": "execute_result"
    }
   ],
   "source": [
    "text2 = \"HelloWorld123\"\n",
    "\n",
    "text2.isalpha()"
   ]
  },
  {
   "cell_type": "markdown",
   "id": "86df8b45-2f46-4da8-b56b-e8967309738d",
   "metadata": {},
   "source": [
    "7- \n",
    "\n",
    "Write Python code to check and print whether the string satisfies the following:\n",
    "\n",
    "Is the string made up of digits only?\n",
    "\n",
    "Is the string all lowercase?\n",
    "\n",
    "text3 = \"helloworld\""
   ]
  },
  {
   "cell_type": "code",
   "execution_count": 19,
   "id": "2bc46945-31c2-4515-94e6-35e5fe00981e",
   "metadata": {},
   "outputs": [
    {
     "data": {
      "text/plain": [
       "False"
      ]
     },
     "execution_count": 19,
     "metadata": {},
     "output_type": "execute_result"
    }
   ],
   "source": [
    "text3 = \"helloworld\"\n",
    "\n",
    "text3.isdigit()"
   ]
  },
  {
   "cell_type": "code",
   "execution_count": 20,
   "id": "b47dfd87-47eb-4251-806c-723887379b97",
   "metadata": {},
   "outputs": [
    {
     "data": {
      "text/plain": [
       "True"
      ]
     },
     "execution_count": 20,
     "metadata": {},
     "output_type": "execute_result"
    }
   ],
   "source": [
    "text3 = \"helloworld\"\n",
    "\n",
    "text3.islower()"
   ]
  },
  {
   "cell_type": "markdown",
   "id": "d5abaffa-dab0-4c62-94a6-7639e02d4753",
   "metadata": {},
   "source": [
    "8-\n",
    "\n",
    "Write Python code to check and print whether the string satisfies the following:\n",
    "\n",
    "Is the string all uppercase?\n",
    "\n",
    "Is the string titlecased?\n",
    "\n",
    "text4 = 'Hi We Are Learning Python'"
   ]
  },
  {
   "cell_type": "code",
   "execution_count": 8,
   "id": "867b5cc2-ff1c-41de-bd77-fb3bdc8f57d1",
   "metadata": {},
   "outputs": [
    {
     "data": {
      "text/plain": [
       "False"
      ]
     },
     "execution_count": 8,
     "metadata": {},
     "output_type": "execute_result"
    }
   ],
   "source": [
    "text4 = \"Hi We Are Learning Python\"\n",
    "\n",
    "text4.isupper()"
   ]
  },
  {
   "cell_type": "code",
   "execution_count": 9,
   "id": "3dbdd044-42b6-4413-a34e-c94c417635f6",
   "metadata": {},
   "outputs": [
    {
     "data": {
      "text/plain": [
       "True"
      ]
     },
     "execution_count": 9,
     "metadata": {},
     "output_type": "execute_result"
    }
   ],
   "source": [
    "text4 = \"Hi We Are Learning Python\"\n",
    "\n",
    "text4.istitle()"
   ]
  },
  {
   "cell_type": "markdown",
   "id": "005214b5-3e90-488d-9f1a-19fa65b5c830",
   "metadata": {},
   "source": [
    "9- \n",
    "\n",
    "Write Python code to check and print whether the string:\n",
    "\n",
    "Starts with \"data\"\n",
    "\n",
    "Ends with \".csv\"\n",
    "\n",
    "text5 = \"data_report_2023.csv\"\n"
   ]
  },
  {
   "cell_type": "code",
   "execution_count": 16,
   "id": "9b3501c7-9eda-4f49-bd3e-fba5ed3233a0",
   "metadata": {},
   "outputs": [
    {
     "data": {
      "text/plain": [
       "True"
      ]
     },
     "execution_count": 16,
     "metadata": {},
     "output_type": "execute_result"
    }
   ],
   "source": [
    "text5 = \"data_report_2023.csv\"\n",
    "\n",
    "text5.startswith(\"data\")"
   ]
  },
  {
   "cell_type": "code",
   "execution_count": 17,
   "id": "d4c3ba22-4d0a-4114-abf8-e7f1a0ab7780",
   "metadata": {},
   "outputs": [
    {
     "data": {
      "text/plain": [
       "True"
      ]
     },
     "execution_count": 17,
     "metadata": {},
     "output_type": "execute_result"
    }
   ],
   "source": [
    "text5 = \"data_report_2023.csv\"\n",
    "\n",
    "text5.endswith(\".csv\")"
   ]
  },
  {
   "cell_type": "markdown",
   "id": "80bc03e1-c9aa-4c73-ab02-8065a93f0ce5",
   "metadata": {},
   "source": [
    "10-\n",
    "\n",
    "Write Python code to:\n",
    "\n",
    "Count how many times \"banana\" appears in the string.\n",
    "\n",
    "fruit = \"banana bandana banana\"\n"
   ]
  },
  {
   "cell_type": "code",
   "execution_count": 18,
   "id": "13193e78-920a-45db-9c98-c89e8c270ecd",
   "metadata": {},
   "outputs": [
    {
     "data": {
      "text/plain": [
       "2"
      ]
     },
     "execution_count": 18,
     "metadata": {},
     "output_type": "execute_result"
    }
   ],
   "source": [
    "fruit = \"banana bandana banana\"\n",
    "\n",
    "fruit.count(\"banana\")"
   ]
  }
 ],
 "metadata": {
  "kernelspec": {
   "display_name": "Python [conda env:base] *",
   "language": "python",
   "name": "conda-base-py"
  },
  "language_info": {
   "codemirror_mode": {
    "name": "ipython",
    "version": 3
   },
   "file_extension": ".py",
   "mimetype": "text/x-python",
   "name": "python",
   "nbconvert_exporter": "python",
   "pygments_lexer": "ipython3",
   "version": "3.12.7"
  }
 },
 "nbformat": 4,
 "nbformat_minor": 5
}
