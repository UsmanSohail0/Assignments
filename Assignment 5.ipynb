{
 "cells": [
  {
   "cell_type": "markdown",
   "id": "223940fc-101a-482d-8135-a797198dc052",
   "metadata": {},
   "source": [
    "# Q1"
   ]
  },
  {
   "cell_type": "markdown",
   "id": "02c93f40-2462-4008-89ac-402b9c4e637c",
   "metadata": {},
   "source": [
    "Q1. An e-commerce store stores information about its products in a nested dictionary. \n",
    "The outer dictionary uses product IDs as keys, and the inner dictionary stores product details like name, category, price, and stock quantity. \n",
    "\n",
    "products = { 101: {\"name\": \"Laptop\", \"category\": \"Electronics\", \"price\": 1200, \"stock\": 50}, 102: {\"name\": \"Shirt\", \"category\": \"Apparel\", \"price\": 25, \"stock\": 200}, 103: {\"name\": \"Coffee Maker\", \"category\": \"Home Appliances\", \"price\": 80, \"stock\": 30} }\n",
    "\n",
    "• Increase the stock of the \"Shirt\" product (add 50 more units) using increment/decrement operators\n",
    "\n",
    "• Add a new product (e.g., \"Smartphone\")\n",
    "\n",
    "Expected Output:\n",
    "\n",
    "{101: {'name': 'Laptop', 'category': 'Electronics', 'price': 1200, 'stock': 50}, 102: {'name': 'Shirt', 'category': 'Apparel', 'price': 25, 'stock': 250}, 103: {'name': 'Coffee Maker', 'category': 'Home Appliances', 'price': 80, 'stock': 30}}\n",
    "{101: {'name': 'Laptop', 'category': 'Electronics', 'price': 1200, 'stock': 50}, 102: {'name': 'Shirt', 'category': 'Apparel', 'price': 25, 'stock': 250}, 103: {'name': 'Coffee Maker', 'category': 'Home Appliances', 'price': 80, 'stock': 30}, 104: {'name': 'Smartphone', 'category': 'Electronics', 'price': 800, 'stock': 100}}"
   ]
  },
  {
   "cell_type": "code",
   "execution_count": 1,
   "id": "d2cc3a88-80f3-4b8a-86d2-463a7cc970be",
   "metadata": {},
   "outputs": [
    {
     "data": {
      "text/plain": [
       "{101: {'name': 'Laptop',\n",
       "  'category': 'Electronics',\n",
       "  'price': 1200,\n",
       "  'stock': 50},\n",
       " 102: {'name': 'Shirt', 'category': 'Apparel', 'price': 25, 'stock': 200},\n",
       " 103: {'name': 'Coffee Maker',\n",
       "  'category': 'Home Appliances',\n",
       "  'price': 80,\n",
       "  'stock': 30}}"
      ]
     },
     "execution_count": 1,
     "metadata": {},
     "output_type": "execute_result"
    }
   ],
   "source": [
    "products = { 101: {\"name\": \"Laptop\", \"category\": \"Electronics\", \"price\": 1200, \"stock\": 50}, \n",
    "            102: {\"name\": \"Shirt\", \"category\": \"Apparel\", \"price\": 25, \"stock\": 200}, \n",
    "            103: {\"name\": \"Coffee Maker\", \"category\": \"Home Appliances\", \"price\": 80, \"stock\": 30} \n",
    "           }\n",
    "products"
   ]
  },
  {
   "cell_type": "code",
   "execution_count": 2,
   "id": "5cb309b3-d7a3-44d4-bb85-7f31a617c35d",
   "metadata": {},
   "outputs": [
    {
     "data": {
      "text/plain": [
       "{'name': 'Shirt', 'category': 'Apparel', 'price': 25, 'stock': 250}"
      ]
     },
     "execution_count": 2,
     "metadata": {},
     "output_type": "execute_result"
    }
   ],
   "source": [
    "products[102][\"stock\"] += 50\n",
    "products[102]"
   ]
  },
  {
   "cell_type": "code",
   "execution_count": 3,
   "id": "264ec2c1-4cbe-4259-b408-d04256aceb44",
   "metadata": {},
   "outputs": [
    {
     "data": {
      "text/plain": [
       "{101: {'name': 'Laptop',\n",
       "  'category': 'Electronics',\n",
       "  'price': 1200,\n",
       "  'stock': 50},\n",
       " 102: {'name': 'Shirt', 'category': 'Apparel', 'price': 25, 'stock': 250},\n",
       " 103: {'name': 'Coffee Maker',\n",
       "  'category': 'Home Appliances',\n",
       "  'price': 80,\n",
       "  'stock': 30},\n",
       " 104: {'name': 'Smartphone',\n",
       "  'category': 'Electronics',\n",
       "  'price': 800,\n",
       "  'stock': 100}}"
      ]
     },
     "execution_count": 3,
     "metadata": {},
     "output_type": "execute_result"
    }
   ],
   "source": [
    "products[104] = {'name': 'Smartphone', 'category': 'Electronics', 'price': 800, 'stock': 100}\n",
    "products"
   ]
  },
  {
   "cell_type": "markdown",
   "id": "cc9748e0-fc6d-46ba-8800-04b2943bc6f6",
   "metadata": {},
   "source": [
    "# Q2"
   ]
  },
  {
   "cell_type": "markdown",
   "id": "38374151-536f-489a-a18b-c52649f20110",
   "metadata": {},
   "source": [
    "Q2. You are given a list that contains some duplicate items. Remove the duplicates by converting the list to a set. Final output should be in list\n",
    "\n",
    "shopping_list = [\"apple\", \"banana\", \"apple\", \"orange\", \"banana\", \"grape\"]\n",
    "\n",
    "Expected Output:\n",
    "['apple', 'grape', 'banana', 'orange']"
   ]
  },
  {
   "cell_type": "code",
   "execution_count": 4,
   "id": "26c260fc-5c9b-4a0f-bc32-97dcc412e326",
   "metadata": {},
   "outputs": [
    {
     "data": {
      "text/plain": [
       "['apple', 'banana', 'apple', 'orange', 'banana', 'grape']"
      ]
     },
     "execution_count": 4,
     "metadata": {},
     "output_type": "execute_result"
    }
   ],
   "source": [
    "shopping_list = [\"apple\", \"banana\", \"apple\", \"orange\", \"banana\", \"grape\"]\n",
    "shopping_list"
   ]
  },
  {
   "cell_type": "code",
   "execution_count": 5,
   "id": "5bf06bc5-499f-479a-b498-fca2e083f701",
   "metadata": {},
   "outputs": [
    {
     "data": {
      "text/plain": [
       "['banana', 'apple', 'orange', 'grape']"
      ]
     },
     "execution_count": 5,
     "metadata": {},
     "output_type": "execute_result"
    }
   ],
   "source": [
    "unique_list = list(set(shopping_list))\n",
    "unique_list"
   ]
  },
  {
   "cell_type": "markdown",
   "id": "db7661bd-5409-433d-8da0-a1cf8792fdf1",
   "metadata": {},
   "source": [
    "# Q3"
   ]
  },
  {
   "cell_type": "markdown",
   "id": "6024ec14-7264-4e36-bcea-da9e8044e483",
   "metadata": {},
   "source": [
    "Q3. You are managing a list of students enrolled in two different courses. \n",
    "You need to perform various set operations to understand the student enrollment. \n",
    "\n",
    "Task: Create two sets: one for students in \"Course A\" and one for students in \"Course B\".  \n",
    "Find the students who are in \"Course A\" but not in \"Course B\" (difference).  \n",
    "Find students who are only in one of the two courses (symmetric difference).  \n",
    "\n",
    "course_a = {\"John\", \"Alice\", \"Bob\", \"David\"}  \n",
    "course_b = {\"Alice\", \"Eve\", \"Charlie\", \"David\"}\n",
    "\n",
    "Using set methods\n",
    "\n",
    "• Find students who are in Course A but not in Course B (difference)\n",
    "\n",
    "• Find students who are only in one of the two courses (symmetric difference)\n",
    "\n",
    "Expected Output:\n",
    "\n",
    "Students in Course A but not in Course B: {'Bob', 'John'}\n",
    "\n",
    "Students only in one of the two courses: {'Eve', 'John', 'Bob', 'Charlie'}\n"
   ]
  },
  {
   "cell_type": "code",
   "execution_count": 6,
   "id": "9fbba3dc-02b8-47bc-8824-090718dbd848",
   "metadata": {},
   "outputs": [
    {
     "data": {
      "text/plain": [
       "{'Alice', 'Bob', 'David', 'John'}"
      ]
     },
     "execution_count": 6,
     "metadata": {},
     "output_type": "execute_result"
    }
   ],
   "source": [
    "course_a = {\"John\", \"Alice\", \"Bob\", \"David\"} \n",
    "course_a"
   ]
  },
  {
   "cell_type": "code",
   "execution_count": 7,
   "id": "cba54bd6-208e-465e-abb4-ee8f3d5a140a",
   "metadata": {},
   "outputs": [
    {
     "data": {
      "text/plain": [
       "{'Alice', 'Charlie', 'David', 'Eve'}"
      ]
     },
     "execution_count": 7,
     "metadata": {},
     "output_type": "execute_result"
    }
   ],
   "source": [
    "course_b = {\"Alice\", \"Eve\", \"Charlie\", \"David\"}\n",
    "course_b"
   ]
  },
  {
   "cell_type": "code",
   "execution_count": 8,
   "id": "eb0eabfe-9d1e-4b58-916f-e62993e3ee54",
   "metadata": {},
   "outputs": [
    {
     "data": {
      "text/plain": [
       "{'Bob', 'John'}"
      ]
     },
     "execution_count": 8,
     "metadata": {},
     "output_type": "execute_result"
    }
   ],
   "source": [
    "course_a.difference(course_b)"
   ]
  },
  {
   "cell_type": "code",
   "execution_count": 9,
   "id": "61166ece-940b-4454-84ce-17ba87be06e5",
   "metadata": {},
   "outputs": [
    {
     "data": {
      "text/plain": [
       "{'Bob', 'Charlie', 'Eve', 'John'}"
      ]
     },
     "execution_count": 9,
     "metadata": {},
     "output_type": "execute_result"
    }
   ],
   "source": [
    "course_a.symmetric_difference(course_b)"
   ]
  },
  {
   "cell_type": "markdown",
   "id": "e9cd561b-69ce-4da2-a64c-a6dcbe4821df",
   "metadata": {},
   "source": [
    "# Q4"
   ]
  },
  {
   "cell_type": "markdown",
   "id": "41da432a-3038-4868-803e-fe40f55c9983",
   "metadata": {},
   "source": [
    "Q4. Write a Python program to store and display the details of a book.  \n",
    "\n",
    "The program should ask the user to input the following information:   \n",
    "\n",
    "Title of the book  \n",
    "Author’s name  \n",
    "Year of publication  \n",
    "Price of the booK  \n",
    "\n",
    "Store the entered details in a tuple.  \n",
    "\n",
    "Finally, display the book details in a proper format as shown below:  \n",
    "\n",
    "Expected Output:  \n",
    "\n",
    "Title: Harry Potter  \n",
    "Author: JK Rowlings  \n",
    "Year of Publication: 2000  \n",
    "Price: $180.0"
   ]
  },
  {
   "cell_type": "code",
   "execution_count": 13,
   "id": "937a6be6-c416-4b52-9037-b7693a1c93c8",
   "metadata": {},
   "outputs": [
    {
     "name": "stdin",
     "output_type": "stream",
     "text": [
      "Title of the book: harry potter\n",
      "Author’s name: jk rowlings\n",
      "Year of Publication: 2000\n",
      "Price of the booK: 180\n"
     ]
    },
    {
     "name": "stdout",
     "output_type": "stream",
     "text": [
      "\n",
      "Book Data.\n",
      "Title: Harry Potter\n",
      "Author: Jk Rowlings\n",
      "Year of Publication: 2000\n",
      "Price: $ 180.0\n"
     ]
    }
   ],
   "source": [
    "title = input(\"Title of the book:\").title()\n",
    "author = input(\"Author’s name:\").title()\n",
    "year = int(input(\"Year of Publication:\"))\n",
    "price = float(input(\"Price of the booK:\"))\n",
    "\n",
    "book = (title, author, year, price)\n",
    "\n",
    "print(\"\\nBook Data.\")\n",
    "print(\"Title:\", title)\n",
    "print(\"Author:\", author)\n",
    "print(\"Year of Publication:\", year)\n",
    "print(\"Price: $\", price)\n"
   ]
  },
  {
   "cell_type": "markdown",
   "id": "cd7b5ec9-bfb2-4fa9-a2e1-3a4895cbe254",
   "metadata": {},
   "source": [
    "# Q5"
   ]
  },
  {
   "cell_type": "markdown",
   "id": "48347612-e98e-4b10-b9e7-69dd64a27cd3",
   "metadata": {},
   "source": [
    "Q5. Write a program to check if a user’s chosen subject is available in the list of offered subjects.\n",
    "\n",
    "Instructions:\n",
    "\n",
    "Given a list of subjects, ask the user to input a subject.\n",
    "\n",
    "Display whether the subject is available or not.\n",
    "\n",
    "Expected Output:\n",
    "\n",
    "Enter the subject you are interested in:  art\n",
    "\n",
    "art is available."
   ]
  },
  {
   "cell_type": "code",
   "execution_count": 15,
   "id": "6225389a-3700-40f1-98f6-6a6b21eccb29",
   "metadata": {},
   "outputs": [
    {
     "name": "stdin",
     "output_type": "stream",
     "text": [
      "Enter the subject you are interested in: art\n"
     ]
    },
    {
     "name": "stdout",
     "output_type": "stream",
     "text": [
      "Art is available\n"
     ]
    }
   ],
   "source": [
    "subjects = [\"Math\", \"History\", \"Physics\", \"Art\", \"Biology\"]\n",
    "user = input(\"Enter the subject you are interested in:\").title()\n",
    "\n",
    "if user in subjects:\n",
    "    print(user, \"is available\")\n",
    "else:\n",
    "    print(user, \"is not available\")"
   ]
  },
  {
   "cell_type": "markdown",
   "id": "16b53a68-2fcd-4d95-bd81-f863cb3b7c6d",
   "metadata": {},
   "source": [
    "# Q6"
   ]
  },
  {
   "cell_type": "markdown",
   "id": "11ffc986-b30a-4cd9-8416-44c6da950d00",
   "metadata": {},
   "source": [
    "Q6. Write a Python program that asks the user to enter a number.\n",
    "\n",
    "If the number is greater than 0, print \"Positive\".\n",
    "\n",
    "If the number is less than 0, print \"Negative\".\n",
    "\n",
    "If the number is exactly 0, print \"Zero\".\n",
    "\n",
    "Expected Output:\n",
    "\n",
    "Enter a number:  2\n",
    "\n",
    "The number is Positive\n",
    "\n",
    "---\n",
    "\n",
    "Enter a number:  0\n",
    "\n",
    "The number is Zero\n",
    "\n",
    "---\n",
    "\n",
    "Enter a number:  -1\n",
    "\n",
    "The number is Negative"
   ]
  },
  {
   "cell_type": "code",
   "execution_count": 18,
   "id": "a0d064a8-c3ec-4eb1-a027-3a549f2b9175",
   "metadata": {},
   "outputs": [
    {
     "name": "stdin",
     "output_type": "stream",
     "text": [
      "Enter a number:  0\n"
     ]
    },
    {
     "name": "stdout",
     "output_type": "stream",
     "text": [
      "Zero\n"
     ]
    }
   ],
   "source": [
    "num = float(input(\"Enter a number: \"))\n",
    "\n",
    "if num>0:\n",
    "    print(\"Positive\")\n",
    "elif num<0:\n",
    "    print(\"Negative\")\n",
    "else:\n",
    "    print(\"Zero\")"
   ]
  },
  {
   "cell_type": "markdown",
   "id": "0aacef5d-2ad4-4e28-a65e-5c4daaa5858d",
   "metadata": {},
   "source": [
    "# Q7"
   ]
  },
  {
   "cell_type": "markdown",
   "id": "2c3a8b52-5013-4999-bdfe-5248b957ad74",
   "metadata": {},
   "source": [
    "Q7. Write a Python program that simulates a simple login system.\n",
    "\n",
    "The correct username is 'admin' and the correct password is 'admin@123'\n",
    "\n",
    "The program should take username and password as input from the user.\n",
    "\n",
    "It should check the input and display messages according to the following conditions:\n",
    "\n",
    "- If both username and password are correct → print \"Login Successful\".\n",
    "\n",
    "- If username is wrong but password is correct → print \"Invalid Username\".\n",
    "\n",
    "- If username is correct but password is wrong → print \"Invalid Password\".\n",
    "\n",
    "- If both username and password are wrong → print \"Invalid Username and Password\"."
   ]
  },
  {
   "cell_type": "code",
   "execution_count": 19,
   "id": "a3164658-53bb-4181-a7bc-468af7825600",
   "metadata": {},
   "outputs": [
    {
     "name": "stdin",
     "output_type": "stream",
     "text": [
      "Enter your username:  admin\n",
      "Enter your password:  admin@123\n"
     ]
    },
    {
     "name": "stdout",
     "output_type": "stream",
     "text": [
      "Login Successful\n"
     ]
    }
   ],
   "source": [
    "username = input(\"Enter your username: \").lower()\n",
    "password = input(\"Enter your password: \")\n",
    "\n",
    "if username == 'admin' and password == 'admin@123':\n",
    "    print(\"Login Successful\")\n",
    "elif username != 'admin' and password == 'admin@123':\n",
    "    print(\"Invalid Username\")\n",
    "elif username == 'admin' and password != 'admin@123':\n",
    "    print(\"Invalid Password\")\n",
    "else:\n",
    "    print(\"Invalid Username and Password\")"
   ]
  },
  {
   "cell_type": "markdown",
   "id": "cde0128b-97c5-494c-812c-c478f134b29b",
   "metadata": {},
   "source": [
    "# Q8"
   ]
  },
  {
   "cell_type": "markdown",
   "id": "5c799583-5206-449c-b370-4007ec0382f2",
   "metadata": {},
   "source": [
    "Q8.\n",
    "\n",
    "student_details = {\n",
    "    \"Ali\": {\"age\": 20, \"grade\": \"A\", \"city\": \"Karachi\"},\n",
    "    \"Sara\": {\"age\": 21, \"grade\": \"B\", \"city\": \"Lahore\"},\n",
    "    \"Omar\": {\"age\": 19, \"grade\": \"A\", \"city\": \"Islamabad\"},\n",
    "    \"Hina\": {\"age\": 22, \"grade\": \"C\", \"city\": \"Faisalabad\"}\n",
    "}\n",
    "\n",
    "- Add a new student using method:\n",
    "  \"Zara\": {\"age\": 20, \"grade\": \"B\", \"city\": \"Multan\"}\n",
    "\n",
    "- Remove a student \"Omer\" using method\n",
    "\n",
    "Expected Output:\n",
    "\n",
    "{'Ali': {'age': 20, 'grade': 'A', 'city': 'Karachi'}, 'Sara': {'age': 21, 'grade': 'B', 'city': 'Lahore'}, 'Hina': {'age': 22, 'grade': 'C', 'city': 'Faisalabad'}, 'Zara': {'age': 20, 'grade': 'B', 'city': 'Multan'}}\n",
    "  "
   ]
  },
  {
   "cell_type": "code",
   "execution_count": 20,
   "id": "7ffc39d5-6659-4586-8b51-c72effa3a339",
   "metadata": {},
   "outputs": [
    {
     "data": {
      "text/plain": [
       "{'Ali': {'age': 20, 'grade': 'A', 'city': 'Karachi'},\n",
       " 'Sara': {'age': 21, 'grade': 'B', 'city': 'Lahore'},\n",
       " 'Omar': {'age': 19, 'grade': 'A', 'city': 'Islamabad'},\n",
       " 'Hina': {'age': 22, 'grade': 'C', 'city': 'Faisalabad'}}"
      ]
     },
     "execution_count": 20,
     "metadata": {},
     "output_type": "execute_result"
    }
   ],
   "source": [
    "student_details = { \"Ali\": {\"age\": 20, \"grade\": \"A\", \"city\": \"Karachi\"}, \n",
    "                   \"Sara\": {\"age\": 21, \"grade\": \"B\", \"city\": \"Lahore\"}, \n",
    "                   \"Omar\": {\"age\": 19, \"grade\": \"A\", \"city\": \"Islamabad\"}, \n",
    "                   \"Hina\": {\"age\": 22, \"grade\": \"C\", \"city\": \"Faisalabad\"} \n",
    "                  }\n",
    "\n",
    "student_details"
   ]
  },
  {
   "cell_type": "code",
   "execution_count": 21,
   "id": "a092b161-a1e9-4ee6-8249-1cb17e6ebaa7",
   "metadata": {},
   "outputs": [
    {
     "data": {
      "text/plain": [
       "{'Ali': {'age': 20, 'grade': 'A', 'city': 'Karachi'},\n",
       " 'Sara': {'age': 21, 'grade': 'B', 'city': 'Lahore'},\n",
       " 'Omar': {'age': 19, 'grade': 'A', 'city': 'Islamabad'},\n",
       " 'Hina': {'age': 22, 'grade': 'C', 'city': 'Faisalabad'},\n",
       " 'Zara': {'age': 20, 'grade': 'B', 'city': 'Multan'}}"
      ]
     },
     "execution_count": 21,
     "metadata": {},
     "output_type": "execute_result"
    }
   ],
   "source": [
    "student_details[\"Zara\"] = {\"age\": 20, \"grade\": \"B\", \"city\": \"Multan\"}\n",
    "student_details"
   ]
  },
  {
   "cell_type": "code",
   "execution_count": 22,
   "id": "2143eb93-31b1-4c30-9fb2-895a55d1e745",
   "metadata": {},
   "outputs": [
    {
     "data": {
      "text/plain": [
       "{'age': 19, 'grade': 'A', 'city': 'Islamabad'}"
      ]
     },
     "execution_count": 22,
     "metadata": {},
     "output_type": "execute_result"
    }
   ],
   "source": [
    "student_details.pop(\"Omar\")"
   ]
  },
  {
   "cell_type": "code",
   "execution_count": 23,
   "id": "011687f3-3226-4d0e-96eb-1f5b52880d42",
   "metadata": {},
   "outputs": [
    {
     "data": {
      "text/plain": [
       "{'Ali': {'age': 20, 'grade': 'A', 'city': 'Karachi'},\n",
       " 'Sara': {'age': 21, 'grade': 'B', 'city': 'Lahore'},\n",
       " 'Hina': {'age': 22, 'grade': 'C', 'city': 'Faisalabad'},\n",
       " 'Zara': {'age': 20, 'grade': 'B', 'city': 'Multan'}}"
      ]
     },
     "execution_count": 23,
     "metadata": {},
     "output_type": "execute_result"
    }
   ],
   "source": [
    "student_details"
   ]
  },
  {
   "cell_type": "markdown",
   "id": "71354510-793a-4d65-a51b-c8edaadfbbab",
   "metadata": {},
   "source": [
    "# Q9"
   ]
  },
  {
   "cell_type": "markdown",
   "id": "f5c1e4f9-1b24-4c6e-b94d-10e4511df8d8",
   "metadata": {},
   "source": [
    "Q9. Write program to check a person’s eligibility for a loan based on age, credit score, and income. This time, the eligibility criteria will be:\n",
    "\n",
    "The person must be 18 years or older. The person must have a credit score of 650 or higher. The person must have an annual income of at least 30000 dollars If the person has a credit score of 700 or higher, they may still be eligible with an income of 25000 dollars or more.\n",
    "\n",
    "Expected Output:\n",
    "\n",
    "Enter your age:  22  \n",
    "Enter your credit score:  888  \n",
    "Enter your annual income: $ 800000\n",
    "\n",
    "You are eligible for the loan!\n",
    "\n",
    "---\n",
    "\n",
    "Enter your age:  15  \n",
    "Enter your credit score:  800  \n",
    "Enter your annual income: $ 900000\n",
    "\n",
    "You are not eligible for the loan due to age.\n",
    "\n",
    "---\n",
    "\n",
    "Enter your age:  35  \n",
    "Enter your credit score:  99  \n",
    "Enter your annual income: $ 900000\n",
    "\n",
    "You are not eligible for the loan due to low credit score."
   ]
  },
  {
   "cell_type": "code",
   "execution_count": 24,
   "id": "3487c1f5-cdfa-4992-956f-62ba5296d52b",
   "metadata": {},
   "outputs": [
    {
     "name": "stdin",
     "output_type": "stream",
     "text": [
      "Enter your age:  22\n",
      "Enter your credit score:  888\n",
      "Enter your annual income: $ 90000\n"
     ]
    },
    {
     "name": "stdout",
     "output_type": "stream",
     "text": [
      "You are eligible for the loan!\n"
     ]
    }
   ],
   "source": [
    "age = int(input(\"Enter your age: \"))\n",
    "credit = int(input(\"Enter your credit score: \"))\n",
    "income = int(input(\"Enter your annual income: $\"))\n",
    "\n",
    "\n",
    "if age<18:\n",
    "    print(\"You are not eligible for the loan due to age.\")\n",
    "    \n",
    "elif credit<650:\n",
    "    print(\"You are not eligible for the loan due to low credit score.\")\n",
    "\n",
    "elif (credit>=650 and income>=30000) or (credit>=700 and income>=25000):\n",
    "    print(\"You are eligible for the loan!\")\n",
    "\n",
    "else:\n",
    "    print(\"You are not eligible for loan due to low income.\")"
   ]
  },
  {
   "cell_type": "markdown",
   "id": "c5ef2a27-afc3-47ab-8810-60adb38a9c1c",
   "metadata": {},
   "source": [
    "### ANOTHER SOLUTION ⬇"
   ]
  },
  {
   "cell_type": "code",
   "execution_count": 25,
   "id": "db4406e4-936d-4caa-a36d-5bda878287e5",
   "metadata": {},
   "outputs": [
    {
     "name": "stdin",
     "output_type": "stream",
     "text": [
      "Enter your age:  15\n"
     ]
    },
    {
     "name": "stdout",
     "output_type": "stream",
     "text": [
      "You are not eligible for the loan due to age.\n"
     ]
    }
   ],
   "source": [
    "age = int(input(\"Enter your age: \"))\n",
    "if age<18:\n",
    "    print(\"You are not eligible for the loan due to age.\")\n",
    "\n",
    "else:\n",
    "    credit = int(input(\"Enter your credit score: \"))\n",
    "    if credit<650:\n",
    "        print(\"You are not eligible for the loan due to low credit score.\")\n",
    "\n",
    "    else:\n",
    "        income = int(input(\"Enter your annual income: $\"))\n",
    "        if (credit>=650 and income>=30000) or (credit>=700 and income>=25000):\n",
    "            print(\"You are eligible for the loan!\")\n",
    "        else:\n",
    "            print(\"You are not eligible for loan due to low income.\")"
   ]
  },
  {
   "cell_type": "markdown",
   "id": "0d9a17f8-a234-4529-9908-bf647c4f8aa1",
   "metadata": {},
   "source": [
    "# Q10"
   ]
  },
  {
   "cell_type": "markdown",
   "id": "2b4c034e-a69a-4124-a1ea-497bce36c7a9",
   "metadata": {},
   "source": [
    "Q10. Write a Python program to check whether the entered letter is a vowel, a consonant, or invalid input.\n",
    "\n",
    "The program should take a single character as input. If the character is a vowel (a, e, i, o, u in both upper and lower case), it will print \"Vowel\". If it is an alphabet but not a vowel, it will print \"Consonant\". Otherwise, it will print \"Please enter valid alphabet\".\n",
    "\n",
    "Expected Output:\n",
    "\n",
    "Enter a single letter:  a\n",
    "\n",
    "a is a Vowel\n",
    "\n",
    "---\n",
    "\n",
    "Enter a single letter:  E\n",
    "\n",
    "E is a Vowel\n",
    "\n",
    "---\n",
    "\n",
    "Enter a single letter:  z\n",
    "\n",
    "z is a Consonant\n",
    "\n",
    "---\n",
    "\n",
    "Enter a single letter:  7\n",
    "\n",
    "Please enter valid alphabet\n"
   ]
  },
  {
   "cell_type": "code",
   "execution_count": 28,
   "id": "45ea9469-5496-4c6e-8de0-e3d9b10c0d6a",
   "metadata": {},
   "outputs": [
    {
     "name": "stdin",
     "output_type": "stream",
     "text": [
      "Enter a single letter: E\n"
     ]
    },
    {
     "name": "stdout",
     "output_type": "stream",
     "text": [
      "Vowel\n"
     ]
    }
   ],
   "source": [
    "user = input(\"Enter a single letter:\").lower()\n",
    "\n",
    "if len(user) == 1 and user.isalpha():\n",
    "    if user in (\"a\", \"e\", \"i\", \"o\", \"u\"):\n",
    "        print(\"Vowel\")\n",
    "    else:\n",
    "        print(\"Consonant\")\n",
    "else:\n",
    "    print(\"Please enter valid alphabet\")"
   ]
  },
  {
   "cell_type": "code",
   "execution_count": null,
   "id": "17752b4c-7dcf-47c3-809b-d7c34e3ae440",
   "metadata": {},
   "outputs": [],
   "source": []
  },
  {
   "cell_type": "code",
   "execution_count": null,
   "id": "568601a1-5f19-49f1-87cd-9f4aebd28171",
   "metadata": {},
   "outputs": [],
   "source": []
  }
 ],
 "metadata": {
  "kernelspec": {
   "display_name": "Python 3 (ipykernel)",
   "language": "python",
   "name": "python3"
  },
  "language_info": {
   "codemirror_mode": {
    "name": "ipython",
    "version": 3
   },
   "file_extension": ".py",
   "mimetype": "text/x-python",
   "name": "python",
   "nbconvert_exporter": "python",
   "pygments_lexer": "ipython3",
   "version": "3.12.7"
  }
 },
 "nbformat": 4,
 "nbformat_minor": 5
}
