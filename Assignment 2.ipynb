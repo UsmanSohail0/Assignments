{
 "cells": [
  {
   "cell_type": "markdown",
   "id": "5cb2ecfd-b18b-4388-bfea-56ae73b35c51",
   "metadata": {},
   "source": [
    "Q1. Write a program that takes two numbers (a = 15 , b = 4) and prints their:\n",
    "\n",
    "\n",
    "- Sum\n",
    "\n",
    "- Difference\n",
    "\n",
    "- Product\n",
    "\n",
    "- Division\n",
    "\n",
    "- Floor Division\n",
    "\n",
    "- Modulus"
   ]
  },
  {
   "cell_type": "code",
   "execution_count": 1,
   "id": "31082820-8ae1-41a5-b0ba-3a333b04a383",
   "metadata": {},
   "outputs": [
    {
     "data": {
      "text/plain": [
       "19"
      ]
     },
     "execution_count": 1,
     "metadata": {},
     "output_type": "execute_result"
    }
   ],
   "source": [
    "a = 15\n",
    "b = 4\n",
    "\n",
    "a + b"
   ]
  },
  {
   "cell_type": "code",
   "execution_count": 2,
   "id": "9a23a39e-77d6-4215-a5cf-e514b50f7ffe",
   "metadata": {},
   "outputs": [
    {
     "data": {
      "text/plain": [
       "11"
      ]
     },
     "execution_count": 2,
     "metadata": {},
     "output_type": "execute_result"
    }
   ],
   "source": [
    "a = 15\n",
    "b = 4\n",
    "\n",
    "a - b"
   ]
  },
  {
   "cell_type": "code",
   "execution_count": 3,
   "id": "9cffcdd7-693c-4334-a3ee-6c817a918273",
   "metadata": {},
   "outputs": [
    {
     "data": {
      "text/plain": [
       "60"
      ]
     },
     "execution_count": 3,
     "metadata": {},
     "output_type": "execute_result"
    }
   ],
   "source": [
    "a = 15\n",
    "b = 4\n",
    "\n",
    "a * b"
   ]
  },
  {
   "cell_type": "code",
   "execution_count": 4,
   "id": "f5ae07bc-1829-42e7-aabd-591d96415dcc",
   "metadata": {},
   "outputs": [
    {
     "data": {
      "text/plain": [
       "3.75"
      ]
     },
     "execution_count": 4,
     "metadata": {},
     "output_type": "execute_result"
    }
   ],
   "source": [
    "a = 15\n",
    "b = 4\n",
    "\n",
    "a / b"
   ]
  },
  {
   "cell_type": "code",
   "execution_count": 5,
   "id": "34ac544b-9c11-4499-b6ea-ffe4d2416ab5",
   "metadata": {},
   "outputs": [
    {
     "data": {
      "text/plain": [
       "3"
      ]
     },
     "execution_count": 5,
     "metadata": {},
     "output_type": "execute_result"
    }
   ],
   "source": [
    "a = 15\n",
    "b = 4\n",
    "\n",
    "a // b"
   ]
  },
  {
   "cell_type": "code",
   "execution_count": 6,
   "id": "76cc54dc-8ce4-45b6-9da8-680796c4a511",
   "metadata": {},
   "outputs": [
    {
     "data": {
      "text/plain": [
       "3"
      ]
     },
     "execution_count": 6,
     "metadata": {},
     "output_type": "execute_result"
    }
   ],
   "source": [
    "a = 15\n",
    "b = 4\n",
    "\n",
    "a % b"
   ]
  },
  {
   "cell_type": "markdown",
   "id": "e618f6d3-ca17-4ece-b8c9-203c94ffe413",
   "metadata": {},
   "source": [
    "\n",
    "Q2. Check the type and convert: \n",
    "(num1 = 10, num2 = 5.6, num3 = 4.43, num4='23')\n",
    "\n",
    "- Integer to float\n",
    "\n",
    "- Float to integer\n",
    "\n",
    "- Float to String\n",
    "\n",
    "- String to Integer"
   ]
  },
  {
   "cell_type": "code",
   "execution_count": 7,
   "id": "d27e0b44-3749-4f2d-9607-b0196331d548",
   "metadata": {},
   "outputs": [
    {
     "data": {
      "text/plain": [
       "int"
      ]
     },
     "execution_count": 7,
     "metadata": {},
     "output_type": "execute_result"
    }
   ],
   "source": [
    "num1 = 10\n",
    "type(num1)"
   ]
  },
  {
   "cell_type": "code",
   "execution_count": 8,
   "id": "39ef684f-aab1-4a5c-aa51-42384ab3f3a9",
   "metadata": {},
   "outputs": [
    {
     "data": {
      "text/plain": [
       "10.0"
      ]
     },
     "execution_count": 8,
     "metadata": {},
     "output_type": "execute_result"
    }
   ],
   "source": [
    "float(num1)"
   ]
  },
  {
   "cell_type": "code",
   "execution_count": 9,
   "id": "208205cb-0594-421d-97f9-94ca367a3a55",
   "metadata": {},
   "outputs": [
    {
     "data": {
      "text/plain": [
       "float"
      ]
     },
     "execution_count": 9,
     "metadata": {},
     "output_type": "execute_result"
    }
   ],
   "source": [
    "num2 = 5.6\n",
    "type(num2)"
   ]
  },
  {
   "cell_type": "code",
   "execution_count": 10,
   "id": "d755d456-8262-4289-a01a-155d95c6e8fb",
   "metadata": {},
   "outputs": [
    {
     "data": {
      "text/plain": [
       "5"
      ]
     },
     "execution_count": 10,
     "metadata": {},
     "output_type": "execute_result"
    }
   ],
   "source": [
    "int(num2)"
   ]
  },
  {
   "cell_type": "code",
   "execution_count": 11,
   "id": "7c2a6c70-3bb8-4a8c-b542-4ac7df944f97",
   "metadata": {},
   "outputs": [
    {
     "data": {
      "text/plain": [
       "float"
      ]
     },
     "execution_count": 11,
     "metadata": {},
     "output_type": "execute_result"
    }
   ],
   "source": [
    "num3 = 4.43\n",
    "type(num3)"
   ]
  },
  {
   "cell_type": "code",
   "execution_count": 12,
   "id": "1c017529-7514-4791-8054-0c18a49973ac",
   "metadata": {},
   "outputs": [
    {
     "data": {
      "text/plain": [
       "'4.43'"
      ]
     },
     "execution_count": 12,
     "metadata": {},
     "output_type": "execute_result"
    }
   ],
   "source": [
    "str(num3)"
   ]
  },
  {
   "cell_type": "code",
   "execution_count": 13,
   "id": "3685e26d-03e9-4925-b8a8-940b956efc5f",
   "metadata": {},
   "outputs": [
    {
     "data": {
      "text/plain": [
       "str"
      ]
     },
     "execution_count": 13,
     "metadata": {},
     "output_type": "execute_result"
    }
   ],
   "source": [
    "num4 = '23'\n",
    "type(num4)"
   ]
  },
  {
   "cell_type": "code",
   "execution_count": 14,
   "id": "02f3629b-f2a7-46a8-aeac-f4d4b56586ab",
   "metadata": {},
   "outputs": [
    {
     "data": {
      "text/plain": [
       "23"
      ]
     },
     "execution_count": 14,
     "metadata": {},
     "output_type": "execute_result"
    }
   ],
   "source": [
    "int(num4)"
   ]
  },
  {
   "cell_type": "markdown",
   "id": "a3e57ec3-1bd8-475c-b228-29ec62354019",
   "metadata": {},
   "source": [
    "Q3. Write a code to store your favorite food in a variable and print it."
   ]
  },
  {
   "cell_type": "code",
   "execution_count": 15,
   "id": "7b294993-748b-43d6-9079-8ca0c7dd3652",
   "metadata": {},
   "outputs": [
    {
     "data": {
      "text/plain": [
       "'Biryani'"
      ]
     },
     "execution_count": 15,
     "metadata": {},
     "output_type": "execute_result"
    }
   ],
   "source": [
    "Fav_food = \"Biryani\"\n",
    "Fav_food"
   ]
  },
  {
   "cell_type": "markdown",
   "id": "08809348-2b9b-4f1c-8c07-e4ad0c5275fc",
   "metadata": {},
   "source": [
    "Q4. \"I have 22 apples and 33 mangoes. How many fruits do I have in total?\"\n",
    "\n",
    "apple = '22'\n",
    "\n",
    "mangoes = 33\n",
    "\n"
   ]
  },
  {
   "cell_type": "code",
   "execution_count": 16,
   "id": "3587d787-d9ab-419d-8937-2a8b0739f1d3",
   "metadata": {},
   "outputs": [
    {
     "data": {
      "text/plain": [
       "55"
      ]
     },
     "execution_count": 16,
     "metadata": {},
     "output_type": "execute_result"
    }
   ],
   "source": [
    "apple = '22'\n",
    "mangoes = 33\n",
    "total_fruits = int(apple) + mangoes\n",
    "\n",
    "total_fruits"
   ]
  },
  {
   "cell_type": "markdown",
   "id": "e81b7161-6fcd-496e-bd19-62fa05f4a79d",
   "metadata": {},
   "source": [
    "Q5. Store in a varibale: Write Your name , Your age, Add 1 to your age using a variable, Print final age"
   ]
  },
  {
   "cell_type": "code",
   "execution_count": 17,
   "id": "054340c3-a2a4-4281-a8ad-690c0c93b876",
   "metadata": {},
   "outputs": [
    {
     "data": {
      "text/plain": [
       "('Usman Sohail', 20)"
      ]
     },
     "execution_count": 17,
     "metadata": {},
     "output_type": "execute_result"
    }
   ],
   "source": [
    "name = \"Usman Sohail\"\n",
    "age = 19\n",
    "\n",
    "age = age +1\n",
    "\n",
    "name,age"
   ]
  },
  {
   "cell_type": "markdown",
   "id": "3921c9e1-bcaa-4d48-9d8c-793272315184",
   "metadata": {},
   "source": [
    "Q6.\n",
    "\n",
    "a = 2\n",
    "\n",
    "b = 1\n",
    "\n",
    "c = 6\n",
    "\n",
    "d = 3\n",
    "\n",
    "- Add a and b\n",
    "\n",
    "- Subtract c and a\n",
    "\n",
    "- Multiply d and b\n",
    "\n",
    "- Divide c and d (float division)\n",
    "\n",
    "- Find modulus of c divided by d\n",
    "\n",
    "- Square of (d+a)"
   ]
  },
  {
   "cell_type": "code",
   "execution_count": 18,
   "id": "4be2d42b-c3e3-4686-a0d1-1d8796ae870f",
   "metadata": {},
   "outputs": [
    {
     "data": {
      "text/plain": [
       "3"
      ]
     },
     "execution_count": 18,
     "metadata": {},
     "output_type": "execute_result"
    }
   ],
   "source": [
    "#Q6.\n",
    "\n",
    "a = 2\n",
    "b = 1\n",
    "c = 6\n",
    "d = 3\n",
    "\n",
    "a + b"
   ]
  },
  {
   "cell_type": "code",
   "execution_count": 19,
   "id": "0128c964-ad49-407d-aade-0340a4cd5299",
   "metadata": {},
   "outputs": [
    {
     "data": {
      "text/plain": [
       "4"
      ]
     },
     "execution_count": 19,
     "metadata": {},
     "output_type": "execute_result"
    }
   ],
   "source": [
    "c - a"
   ]
  },
  {
   "cell_type": "code",
   "execution_count": 20,
   "id": "60e7a3f1-a838-4a68-9797-14314cbde8ea",
   "metadata": {},
   "outputs": [
    {
     "data": {
      "text/plain": [
       "3"
      ]
     },
     "execution_count": 20,
     "metadata": {},
     "output_type": "execute_result"
    }
   ],
   "source": [
    "d * b"
   ]
  },
  {
   "cell_type": "code",
   "execution_count": 21,
   "id": "4fb38f9c-0967-4926-9542-86975331ff7a",
   "metadata": {},
   "outputs": [
    {
     "data": {
      "text/plain": [
       "2.0"
      ]
     },
     "execution_count": 21,
     "metadata": {},
     "output_type": "execute_result"
    }
   ],
   "source": [
    "c / d"
   ]
  },
  {
   "cell_type": "code",
   "execution_count": 22,
   "id": "05872efc-2e0d-4bfc-ab49-20189445f31e",
   "metadata": {},
   "outputs": [
    {
     "data": {
      "text/plain": [
       "0"
      ]
     },
     "execution_count": 22,
     "metadata": {},
     "output_type": "execute_result"
    }
   ],
   "source": [
    "c % d"
   ]
  },
  {
   "cell_type": "code",
   "execution_count": 23,
   "id": "8c255e19-0792-400c-b3b9-f33ce77a391f",
   "metadata": {
    "scrolled": true
   },
   "outputs": [
    {
     "data": {
      "text/plain": [
       "25"
      ]
     },
     "execution_count": 23,
     "metadata": {},
     "output_type": "execute_result"
    }
   ],
   "source": [
    "(d + a) ** 2"
   ]
  },
  {
   "cell_type": "markdown",
   "id": "ed2ae319-5319-4ef4-855d-30ccf8ad87e7",
   "metadata": {},
   "source": [
    "Q7.\n",
    "\n",
    "a = '2'\n",
    "\n",
    "b = '11'\n",
    "\n",
    "c = 6.3\n",
    "\n",
    "- Convert a to integer then add to c\n",
    "\n",
    "- Convert b to float then multiply by c\n",
    "\n",
    "- Convert c to integer then add to c"
   ]
  },
  {
   "cell_type": "code",
   "execution_count": 24,
   "id": "1e8f7555-4268-4a93-bf3c-c284c7eb3a5c",
   "metadata": {},
   "outputs": [],
   "source": [
    "a = '2'\n",
    "b = '11'\n",
    "c = 6.3"
   ]
  },
  {
   "cell_type": "code",
   "execution_count": 25,
   "id": "ecf5dc02-aeac-4243-ace6-318045ec090f",
   "metadata": {},
   "outputs": [
    {
     "data": {
      "text/plain": [
       "8.3"
      ]
     },
     "execution_count": 25,
     "metadata": {},
     "output_type": "execute_result"
    }
   ],
   "source": [
    "int(a) + c"
   ]
  },
  {
   "cell_type": "code",
   "execution_count": 26,
   "id": "bbf8b804-7fb5-48bf-90bd-5722614c56ce",
   "metadata": {},
   "outputs": [
    {
     "data": {
      "text/plain": [
       "69.3"
      ]
     },
     "execution_count": 26,
     "metadata": {},
     "output_type": "execute_result"
    }
   ],
   "source": [
    "float(b) * c"
   ]
  },
  {
   "cell_type": "code",
   "execution_count": 27,
   "id": "c4ed2e57-e207-4602-b07d-c26790136e11",
   "metadata": {},
   "outputs": [
    {
     "data": {
      "text/plain": [
       "12.3"
      ]
     },
     "execution_count": 27,
     "metadata": {},
     "output_type": "execute_result"
    }
   ],
   "source": [
    "int(c) + c"
   ]
  },
  {
   "cell_type": "markdown",
   "id": "7495b654-f93f-4db6-8c13-ead57196163b",
   "metadata": {},
   "source": [
    "Q8.\n",
    "\n",
    "You were 20 years old in the year 2020.\n",
    "Now add 5 more years to your age.\n",
    "What is your current age now?\n",
    "\n",
    "Store age in a variable called age. Print final output in same variable"
   ]
  },
  {
   "cell_type": "code",
   "execution_count": 28,
   "id": "71257abe-453a-45d7-b01b-20b4c1db4214",
   "metadata": {},
   "outputs": [
    {
     "data": {
      "text/plain": [
       "25"
      ]
     },
     "execution_count": 28,
     "metadata": {},
     "output_type": "execute_result"
    }
   ],
   "source": [
    "age = 20\n",
    "\n",
    "age = age + 5\n",
    "\n",
    "age"
   ]
  },
  {
   "cell_type": "markdown",
   "id": "fb18f8d4-d23c-46c7-a1d3-da578190301c",
   "metadata": {},
   "source": [
    "Q9.\n",
    "\n",
    "You had 12 books, and you gave 4 to your friend.\n",
    "How many books do you have now?\n",
    "\n",
    "Store books in a variable called books. Print final output in same variable"
   ]
  },
  {
   "cell_type": "code",
   "execution_count": 29,
   "id": "c0b9e6b2-db5f-47c3-988a-157a5a32bef0",
   "metadata": {},
   "outputs": [
    {
     "data": {
      "text/plain": [
       "8"
      ]
     },
     "execution_count": 29,
     "metadata": {},
     "output_type": "execute_result"
    }
   ],
   "source": [
    "books = 12\n",
    "\n",
    "books = books - 4\n",
    "\n",
    "books"
   ]
  },
  {
   "cell_type": "markdown",
   "id": "9af6924c-6725-459a-b998-8d13fca40fb3",
   "metadata": {},
   "source": [
    "Q10.\n",
    "\n",
    "You baked 5 cookies. You baked 3 times more cookies today.\n",
    "How many cookies did you bake today?\n",
    "\n",
    "Store cookies in a variable called cookies. Print final output in same variable"
   ]
  },
  {
   "cell_type": "code",
   "execution_count": 30,
   "id": "9f1e7f39-0b1c-41f0-8ed3-cb348ec4c525",
   "metadata": {},
   "outputs": [
    {
     "data": {
      "text/plain": [
       "15"
      ]
     },
     "execution_count": 30,
     "metadata": {},
     "output_type": "execute_result"
    }
   ],
   "source": [
    "cookies = 5\n",
    "cookies = cookies * 3\n",
    "\n",
    "cookies"
   ]
  },
  {
   "cell_type": "code",
   "execution_count": null,
   "id": "64dfac4c-5481-4ca0-9a79-dc6ba1064bb5",
   "metadata": {},
   "outputs": [],
   "source": []
  }
 ],
 "metadata": {
  "kernelspec": {
   "display_name": "Python [conda env:base] *",
   "language": "python",
   "name": "conda-base-py"
  },
  "language_info": {
   "codemirror_mode": {
    "name": "ipython",
    "version": 3
   },
   "file_extension": ".py",
   "mimetype": "text/x-python",
   "name": "python",
   "nbconvert_exporter": "python",
   "pygments_lexer": "ipython3",
   "version": "3.12.7"
  }
 },
 "nbformat": 4,
 "nbformat_minor": 5
}
